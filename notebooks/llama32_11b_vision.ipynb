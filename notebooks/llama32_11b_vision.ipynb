{
 "cells": [
  {
   "metadata": {},
   "cell_type": "code",
   "source": [
    "import os\n",
    "import torch\n",
    "from PIL import Image\n",
    "from pathlib import Path\n",
    "from dotenv import load_dotenv\n",
    "from huggingface_hub import login\n",
    "from transformers import MllamaForConditionalGeneration, AutoProcessor\n",
    "\n",
    "load_dotenv()\n",
    "\n",
    "login(token=os.getenv(\"HF_TOKEN\"))"
   ],
   "id": "80573795eafb6ad2",
   "outputs": [],
   "execution_count": null
  },
  {
   "metadata": {},
   "cell_type": "code",
   "source": [
    "HF_MODEL_ID = \"MykMaks/llama-3.2-11B-MM-20-MykMaks_da-wit-merged\"\n",
    "EVALUATION_IMAGES_DIR = \"/home/ubuntu/meta_hackathon_oslo/evaluation/handwritten\"\n",
    "MAX_NEW_TOKENS = 1000"
   ],
   "id": "d9877e2a9d80ea3f",
   "outputs": [],
   "execution_count": null
  },
  {
   "metadata": {},
   "cell_type": "code",
   "source": [
    "model = MllamaForConditionalGeneration.from_pretrained(\n",
    "    HF_MODEL_ID,\n",
    "    torch_dtype=torch.bfloat16,\n",
    "    device_map=\"auto\",\n",
    ")\n",
    "processor = AutoProcessor.from_pretrained(HF_MODEL_ID)"
   ],
   "id": "fc9b51ee0e03642",
   "outputs": [],
   "execution_count": null
  },
  {
   "metadata": {},
   "cell_type": "code",
   "source": [
    "def inference(image_url):\n",
    "    image = Image.open(image_url)\n",
    "    prompt = \"<|image|><|begin_of_text|>Please summarise the contents of this image. Present as markdown.\"\n",
    "\n",
    "    inputs = processor(image, prompt, return_tensors=\"pt\").to(model.device)\n",
    "    output = model.generate(**inputs, max_new_tokens=MAX_NEW_TOKENS)\n",
    "\n",
    "    return processor\\\n",
    "        .decode(output[0])\\\n",
    "        .replace(prompt, \"\")\\\n",
    "        .replace(\"<|begin_of_text|>\", \"\")"
   ],
   "id": "a2f375ea7713b83a",
   "outputs": [],
   "execution_count": null
  },
  {
   "metadata": {
    "ExecuteTime": {
     "end_time": "2025-02-02T10:47:57.465011Z",
     "start_time": "2025-02-02T10:47:34.213560Z"
    }
   },
   "cell_type": "code",
   "source": [
    "directory = Path(EVALUATION_IMAGES_DIR)\n",
    "\n",
    "for image_path in directory.iterdir():\n",
    "    inference_result = inference(image_path)\n",
    "    print(inference_result)"
   ],
   "id": "c7820e22ab34f29e",
   "outputs": [
    {
     "name": "stdout",
     "output_type": "stream",
     "text": [
      " Tabell 17 - Oversikt over estimatusikkerhet og usikkerhetsdrivere for A4\n",
      "\n",
      "Kostnadspost\n",
      "\n",
      "Dagsone Narvik-Tromsø\n",
      "\n",
      "Tunnel Narvik-Tromsø\n",
      "\n",
      "Bru Narvik-Tromsø\n",
      "\n",
      "Jernbaneteknikk Narvik-Tromsø\n",
      "\n",
      "Otfotbanen\n",
      "\n",
      "Stasjoner\n",
      "\n",
      "Godsterminaler + Verksted/Serviceanlegg\n",
      "\n",
      "Omnformerstasjon\n",
      "\n",
      "Felleskostnader entreprenør\n",
      "\n",
      "Planlegging og prosjektering\n",
      "\n",
      "Byggherreorganisasjon\n",
      "\n",
      "Grunnervær\n",
      "\n",
      "Basisestimat\n",
      "\n",
      "Estimatusikkerheten gir en forventet kostnad (83 923 mill. kr) fra basisestimatet (80 436 mill. kr) som trippelanslagene til usikkerhetsdriverne virker på.\n",
      "\n",
      "|      | Basisestimat   | Basisestimat   | Basisestimat   | M %   | M      | Høy %   | Høy      |\n",
      "|------|----------------|----------------|----------------|-------|--------|---------|----------|\n",
      "| Kostnadspost | 7 224          | -11 %          | 6 444          | 0 %   | 7 224   | 25 %     | 9 044    |\n",
      "| Dagsone Narvik-Tromsø | 25 329        | -7 %           | 23 506        | 0 %   | 25 329  | 29 %     | 32 624   |\n",
      "| Tunnel Narvik-Tromsø | 3 197         | -24 %          | 2 430         | 0 %   | 3 197   | 24 %     | 3 964    |\n",
      "| Bru Narvik-Tromsø   | 6 794         | -8 %           | 6 223         | 0 %   | 6 794   | 17 %     | 2 420    |\n",
      "| Jernbaneteknikk Narvik-Tromsø | 2 072        | -7 %           | 1 923         | 0 %   | 2 072   | 42 %     | 3 625    |\n",
      "| Otfotbanen          | 2 553         | -18 %          | 2 093         | 0 %   | 2 553   | 42 %     | 4 069    |\n",
      "| Stasjoner           | 2 866         | -18 %          | 2 350         | 0 %   | 2 866   | 48 %     | 6 94     |\n",
      "| Godsterminaler + Verksted/Serviceanlegg | 2 866         | -12 %          | 4 13         | 0 %   | 4 69    | 12 %     | 14 190   |\n",
      "| Omnformerstasjon    | 4 69          | -12 %          | 11 150        | 0 %   | 12 670  | 18 %     | 7 774    |\n",
      "| Felleskostnader entreprenør | 12 670        | -18 %          | 5 403         | 0 %   | 6 588   | 6 %      | 8 730    |\n",
      "| Planlegging og prosjektering | 6 588        | -6 %           | 7 741         | 0 %   | 8 236   | 42 %     | 3 462    |\n",
      "| Byggherreorganisasjon | 8 236         | -18 %          | 1 999         | 0 %   | 2 438   |         |          |\n",
      "| Grunnervær          | 80 436        |                 | 83 923 mill. kr) fra basisestimatet (80 436 mill. kr) som trippelanslagene til usikkerhetsdriverne virker på. | M %   | M      | Høy %   | Høy      |\n",
      "\n",
      "Usikkerhetsdrivere\n",
      "\n",
      "U1 Anleggsglennomføring\n",
      "\n",
      "U2 Eierstyring og rammebetingelser\n",
      "\n",
      "U3 Eksterne aktører og interessenter\n",
      "\n",
      "U4 Lokale forhold\n",
      "\n",
      "U5 Marked\n",
      "\n",
      "U6 Prosjektering og modenhet\n",
      "\n",
      "U7 Prosjektorganisering og ledelse\n",
      "\n",
      "Lav %   Lav    Lav   M %   M   Høy %  \n"
     ]
    }
   ],
   "execution_count": 5
  }
 ],
 "metadata": {},
 "nbformat": 4,
 "nbformat_minor": 5
}
